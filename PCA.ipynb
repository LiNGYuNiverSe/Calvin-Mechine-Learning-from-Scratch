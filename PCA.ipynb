{
 "cells": [
  {
   "cell_type": "markdown",
   "metadata": {},
   "source": [
    "# 1. Data Preparation and Visualization\n",
    "### 1.1 Read data"
   ]
  },
  {
   "cell_type": "code",
   "execution_count": 1,
   "metadata": {},
   "outputs": [
    {
     "data": {
      "text/plain": [
       "dict_keys(['__header__', '__version__', '__globals__', 'X'])"
      ]
     },
     "execution_count": 1,
     "metadata": {},
     "output_type": "execute_result"
    }
   ],
   "source": [
    "import numpy as np\n",
    "import scipy.io as sio\n",
    "import matplotlib.pyplot as plt\n",
    "data = sio.loadmat(\"./ex7/ex7data1.mat\")\n",
    "data.keys()"
   ]
  },
  {
   "cell_type": "code",
   "execution_count": 2,
   "metadata": {},
   "outputs": [
    {
     "data": {
      "text/plain": [
       "(50, 2)"
      ]
     },
     "execution_count": 2,
     "metadata": {},
     "output_type": "execute_result"
    }
   ],
   "source": [
    "X = data[\"X\"]\n",
    "X.shape"
   ]
  },
  {
   "cell_type": "markdown",
   "metadata": {},
   "source": [
    "### 1.2 Visualize data"
   ]
  },
  {
   "cell_type": "code",
   "execution_count": 3,
   "metadata": {},
   "outputs": [
    {
     "data": {
      "image/png": "[encoded data removed]",
      "text/plain": [
       "<Figure size 432x288 with 1 Axes>"
      ]
     },
     "metadata": {
      "needs_background": "light"
     },
     "output_type": "display_data"
    }
   ],
   "source": [
    "def plot_data(X):\n",
    "    fig,ax =plt.subplots()\n",
    "    ax.scatter(X[:,0],X[:,1])\n",
    "    \n",
    "plot_data(X)"
   ]
  },
  {
   "cell_type": "markdown",
   "metadata": {},
   "source": [
    "# 2. Model Implementation\n",
    "### 2.1 Principle Conponent Analysis - using SVD(singluar Value Decomposition)"
   ]
  },
  {
   "cell_type": "code",
   "execution_count": 4,
   "metadata": {},
   "outputs": [
    {
     "name": "stdout",
     "output_type": "stream",
     "text": [
      "[[-0.79241747 -0.60997914]\n",
      " [-0.60997914  0.79241747]]\n",
      "\n",
      "[1.43584536 0.56415464]\n",
      "\n",
      "[[-0.79241747 -0.60997914]\n",
      " [-0.60997914  0.79241747]]\n"
     ]
    }
   ],
   "source": [
    "def pca(X):\n",
    "    # normalize data\n",
    "    X = (X-X.mean())/X.std()\n",
    "    # calculate coveriance matrix\n",
    "    cov =(X.T @ X)/X.shape[0]\n",
    "    # SVD(Singluar Value Decomposition)\n",
    "    U,S,V = np.linalg.svd(cov)\n",
    "    return U,S,V    \n",
    "\n",
    "U,S,V= pca(X)\n",
    "print(U,S,V, sep = \"\\n\\n\")"
   ]
  },
  {
   "cell_type": "markdown",
   "metadata": {},
   "source": [
    "U is a matrix with priciple component vectors, where e1=[-0.8,-0.6], e2=[-0.6,0.8], which are orthogonal basis.\n",
    "\n",
    "S measures the performance of projection vectors - the higher the better. Here we can see u1 has a better projection result and it is the 1st principle component "
   ]
  },
  {
   "cell_type": "markdown",
   "metadata": {},
   "source": [
    "### 2.2 Calculate the projection and select the top k vectors here"
   ]
  },
  {
   "cell_type": "code",
   "execution_count": 5,
   "metadata": {},
   "outputs": [],
   "source": [
    "def project_data(X,U,k):\n",
    "    U_reduced = U[:,:k] # choose k features we want to keep\n",
    "    return np.dot(X,U_reduced)"
   ]
  },
  {
   "cell_type": "code",
   "execution_count": 6,
   "metadata": {
    "scrolled": true
   },
   "outputs": [
    {
     "data": {
      "text/plain": [
       "(50, 1)"
      ]
     },
     "execution_count": 6,
     "metadata": {},
     "output_type": "execute_result"
    }
   ],
   "source": [
    "Z = project_data(X,U,1)\n",
    "Z.shape"
   ]
  },
  {
   "cell_type": "markdown",
   "metadata": {},
   "source": [
    "### 2.3 Restore the input data from compressed data"
   ]
  },
  {
   "cell_type": "code",
   "execution_count": 7,
   "metadata": {},
   "outputs": [],
   "source": [
    "def recover_data(Z,U,k):\n",
    "    U_reduced =U[:,:k]\n",
    "    return np.dot(Z,U_reduced.T)"
   ]
  },
  {
   "cell_type": "code",
   "execution_count": 8,
   "metadata": {
    "scrolled": true
   },
   "outputs": [
    {
     "data": {
      "text/plain": [
       "array([[3.76152442, 2.89550838],\n",
       "       [5.67283275, 4.36677606],\n",
       "       [3.80014373, 2.92523637],\n",
       "       [3.53223661, 2.71900952],\n",
       "       [3.80569251, 2.92950765]])"
      ]
     },
     "execution_count": 8,
     "metadata": {},
     "output_type": "execute_result"
    }
   ],
   "source": [
    "X_recovered = recover_data(Z,U,1)\n",
    "X_recovered[:5,:]"
   ]
  },
  {
   "cell_type": "markdown",
   "metadata": {},
   "source": [
    "# 3. Performance Evaluation"
   ]
  },
  {
   "cell_type": "code",
   "execution_count": 9,
   "metadata": {
    "scrolled": true
   },
   "outputs": [
    {
     "data": {
      "image/png": "[encoded data removed]",
      "text/plain": [
       "<Figure size 432x288 with 1 Axes>"
      ]
     },
     "metadata": {
      "needs_background": "light"
     },
     "output_type": "display_data"
    }
   ],
   "source": [
    "plot_data(X_recovered)"
   ]
  },
  {
   "cell_type": "markdown",
   "metadata": {},
   "source": [
    "As we can see, the restored data basically is back, although it has loss (distribution is a little bit different) "
   ]
  },
  {
   "cell_type": "markdown",
   "metadata": {},
   "source": [
    "# 4. Practice "
   ]
  },
  {
   "cell_type": "code",
   "execution_count": 10,
   "metadata": {},
   "outputs": [
    {
     "data": {
      "text/plain": [
       "(5000, 1024)"
      ]
     },
     "execution_count": 10,
     "metadata": {},
     "output_type": "execute_result"
    }
   ],
   "source": [
    "faces = sio.loadmat(\"./ex7/ex7faces.mat\")\n",
    "faces.keys()\n",
    "X= faces[\"X\"]\n",
    "X.shape"
   ]
  },
  {
   "cell_type": "code",
   "execution_count": 11,
   "metadata": {},
   "outputs": [
    {
     "data": {
      "image/png": "[encoded data removed]",
      "text/plain": [
       "<Figure size 576x576 with 9 Axes>"
      ]
     },
     "metadata": {
      "needs_background": "light"
     },
     "output_type": "display_data"
    }
   ],
   "source": [
    "def plot_n_image(X,n):\n",
    "    #n must be a squared number here\n",
    "    pic_size  = int(np.sqrt(X.shape[1]))\n",
    "    grid_size = int(np.sqrt(n))\n",
    "    first_n_image = X[:n,:]\n",
    "    fig,axes = plt.subplots(nrows = grid_size,ncols=grid_size,\n",
    "                          sharex= True, sharey=True,\n",
    "                          figsize = (8,8))\n",
    "    for r in range(grid_size):\n",
    "        for c in range(grid_size):\n",
    "            axes[r,c].imshow(first_n_image[grid_size * r + c].reshape((pic_size,pic_size)).T, cmap=\"gray\" )\n",
    "          \n",
    "plot_n_image(X,9)                        "
   ]
  },
  {
   "cell_type": "markdown",
   "metadata": {},
   "source": [
    "Now, let's pick the first face to apply our PCA."
   ]
  },
  {
   "cell_type": "code",
   "execution_count": 12,
   "metadata": {},
   "outputs": [
    {
     "data": {
      "text/plain": [
       "<matplotlib.image.AxesImage at 0x2070beaf9c8>"
      ]
     },
     "execution_count": 12,
     "metadata": {},
     "output_type": "execute_result"
    },
    {
     "data": {
      "image/png": "[encoded data removed]",
      "text/plain": [
       "<Figure size 432x288 with 1 Axes>"
      ]
     },
     "metadata": {
      "needs_background": "light"
     },
     "output_type": "display_data"
    }
   ],
   "source": [
    "face = np.reshape(X[0,:],(32,32)).T\n",
    "plt.imshow(face,cmap = \"gray\")"
   ]
  },
  {
   "cell_type": "code",
   "execution_count": 13,
   "metadata": {},
   "outputs": [
    {
     "data": {
      "text/plain": [
       "(5000, 100)"
      ]
     },
     "execution_count": 13,
     "metadata": {},
     "output_type": "execute_result"
    }
   ],
   "source": [
    "# use all 5000 faces to apply pca and reduce 1024 features to the top 100 features \n",
    "U,S,V = pca(X)\n",
    "Z =project_data(X,U,100)\n",
    "Z.shape"
   ]
  },
  {
   "cell_type": "code",
   "execution_count": 14,
   "metadata": {},
   "outputs": [
    {
     "data": {
      "text/plain": [
       "<matplotlib.image.AxesImage at 0x2070bd32ec8>"
      ]
     },
     "execution_count": 14,
     "metadata": {},
     "output_type": "execute_result"
    },
    {
     "data": {
      "image/png": "[encoded data removed]",
      "text/plain": [
       "<Figure size 432x288 with 1 Axes>"
      ]
     },
     "metadata": {
      "needs_background": "light"
     },
     "output_type": "display_data"
    }
   ],
   "source": [
    "X_recover = recover_data(Z,U,100)\n",
    "face = np.reshape(X_recover[0,:],(32,32)).T\n",
    "plt.imshow(face,cmap = \"gray\")"
   ]
  },
  {
   "cell_type": "markdown",
   "metadata": {},
   "source": [
    "Although the picture is much smaller, the majority of the original details remain"
   ]
  },
  {
   "cell_type": "code",
   "execution_count": null,
   "metadata": {},
   "outputs": [],
   "source": []
  }
 ],
 "metadata": {
  "kernelspec": {
   "display_name": "Python 3",
   "language": "python",
   "name": "python3"
  },
  "language_info": {
   "codemirror_mode": {
    "name": "ipython",
    "version": 3
   },
   "file_extension": ".py",
   "mimetype": "text/x-python",
   "name": "python",
   "nbconvert_exporter": "python",
   "pygments_lexer": "ipython3",
   "version": "3.7.6"
  }
 },
 "nbformat": 4,
 "nbformat_minor": 4
}
