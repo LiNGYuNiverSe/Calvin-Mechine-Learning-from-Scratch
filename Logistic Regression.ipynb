{
 "cells": [
  {
   "cell_type": "markdown",
   "metadata": {},
   "source": [
    "<b>Logistic Regression</b> - Any questions, feel free to contact lc3793@nyu.edu - Calvin\n"
   ]
  },
  {
   "cell_type": "markdown",
   "metadata": {},
   "source": [
    "# 1.Dataset Preparation and Visualization"
   ]
  },
  {
   "cell_type": "markdown",
   "metadata": {},
   "source": [
    "### 1.1 Read data"
   ]
  },
  {
   "cell_type": "code",
   "execution_count": 1,
   "metadata": {},
   "outputs": [],
   "source": [
    "import numpy as np\n",
    "import pandas as pd\n",
    "import matplotlib.pyplot as plt\n",
    "import os"
   ]
  },
  {
   "cell_type": "code",
   "execution_count": 2,
   "metadata": {},
   "outputs": [],
   "source": [
    "raw_data = pd.read_csv(\"./ex2/ex2data2.txt\", names = [\"Test1\",\"Test2\",\"Accepted\"])"
   ]
  },
  {
   "cell_type": "code",
   "execution_count": 3,
   "metadata": {},
   "outputs": [
    {
     "data": {
      "text/html": [
       "<div>\n",
       "<style scoped>\n",
       "    .dataframe tbody tr th:only-of-type {\n",
       "        vertical-align: middle;\n",
       "    }\n",
       "\n",
       "    .dataframe tbody tr th {\n",
       "        vertical-align: top;\n",
       "    }\n",
       "\n",
       "    .dataframe thead th {\n",
       "        text-align: right;\n",
       "    }\n",
       "</style>\n",
       "<table border=\"1\" class=\"dataframe\">\n",
       "  <thead>\n",
       "    <tr style=\"text-align: right;\">\n",
       "      <th></th>\n",
       "      <th>Test1</th>\n",
       "      <th>Test2</th>\n",
       "      <th>Accepted</th>\n",
       "    </tr>\n",
       "  </thead>\n",
       "  <tbody>\n",
       "    <tr>\n",
       "      <th>0</th>\n",
       "      <td>0.051267</td>\n",
       "      <td>0.69956</td>\n",
       "      <td>1</td>\n",
       "    </tr>\n",
       "    <tr>\n",
       "      <th>1</th>\n",
       "      <td>-0.092742</td>\n",
       "      <td>0.68494</td>\n",
       "      <td>1</td>\n",
       "    </tr>\n",
       "    <tr>\n",
       "      <th>2</th>\n",
       "      <td>-0.213710</td>\n",
       "      <td>0.69225</td>\n",
       "      <td>1</td>\n",
       "    </tr>\n",
       "    <tr>\n",
       "      <th>3</th>\n",
       "      <td>-0.375000</td>\n",
       "      <td>0.50219</td>\n",
       "      <td>1</td>\n",
       "    </tr>\n",
       "    <tr>\n",
       "      <th>4</th>\n",
       "      <td>-0.513250</td>\n",
       "      <td>0.46564</td>\n",
       "      <td>1</td>\n",
       "    </tr>\n",
       "  </tbody>\n",
       "</table>\n",
       "</div>"
      ],
      "text/plain": [
       "      Test1    Test2  Accepted\n",
       "0  0.051267  0.69956         1\n",
       "1 -0.092742  0.68494         1\n",
       "2 -0.213710  0.69225         1\n",
       "3 -0.375000  0.50219         1\n",
       "4 -0.513250  0.46564         1"
      ]
     },
     "execution_count": 3,
     "metadata": {},
     "output_type": "execute_result"
    }
   ],
   "source": [
    "raw_data.head()"
   ]
  },
  {
   "cell_type": "markdown",
   "metadata": {},
   "source": [
    "### 1.2 Plot Data"
   ]
  },
  {
   "cell_type": "code",
   "execution_count": 4,
   "metadata": {},
   "outputs": [],
   "source": [
    "def plot_data():\n",
    "    fig,ax = plt.subplots() #initialize instance: fig, ax\n",
    "    ax.scatter(raw_data.loc[raw_data.Accepted == 1, \"Test1\"],\n",
    "               raw_data.loc[raw_data.Accepted == 1, \"Test2\"],\n",
    "               label =\"Accepted\", marker = \"o\",c = \"b\")\n",
    "    \n",
    "    ax.scatter(raw_data.loc[raw_data.Accepted == 0,\"Test1\"],\n",
    "               raw_data.loc[raw_data.Accepted == 0 , \"Test2\"],\n",
    "               label = \"Rejected\", marker = \"x\",c = \"r\")\n",
    "    ax.legend()\n",
    "    ax.set(xlabel = \"\",ylabel = \"\")\n",
    "    plt.show()\n",
    "    "
   ]
  },
  {
   "cell_type": "code",
   "execution_count": 5,
   "metadata": {
    "scrolled": true
   },
   "outputs": [
    {
     "data": {
      "image/png": "[encoded data removed]",
      "text/plain": [
       "<Figure size 432x288 with 1 Axes>"
      ]
     },
     "metadata": {
      "needs_background": "light"
     },
     "output_type": "display_data"
    }
   ],
   "source": [
    "plot_data()"
   ]
  },
  {
   "cell_type": "markdown",
   "metadata": {},
   "source": [
    "As we can see from the picture, there is no way for us to use a straight line (linear way) to divide the positive and negatives samples here. So what we need to do is to generate some new polynomial terms (feature mapping) to draw a curve to seprate them(<b>decision boundary</b>)."
   ]
  },
  {
   "cell_type": "code",
   "execution_count": 6,
   "metadata": {},
   "outputs": [],
   "source": [
    "def feature_mapping(x1,x2,power):\n",
    "    data={}\n",
    "    for i in range(power + 1):\n",
    "        for j in range(i + 1):\n",
    "            data[\"Feat{0}{1}\".format(i-j,j)] = np.power(x1,i-j)*np.power(x2,j) # add all combinations of x1 and x2 here\n",
    "    return pd.DataFrame(data)\n",
    "\n",
    "data = feature_mapping(raw_data[\"Test1\"],raw_data[\"Test2\"],6)"
   ]
  },
  {
   "cell_type": "code",
   "execution_count": 7,
   "metadata": {},
   "outputs": [
    {
     "data": {
      "text/html": [
       "<div>\n",
       "<style scoped>\n",
       "    .dataframe tbody tr th:only-of-type {\n",
       "        vertical-align: middle;\n",
       "    }\n",
       "\n",
       "    .dataframe tbody tr th {\n",
       "        vertical-align: top;\n",
       "    }\n",
       "\n",
       "    .dataframe thead th {\n",
       "        text-align: right;\n",
       "    }\n",
       "</style>\n",
       "<table border=\"1\" class=\"dataframe\">\n",
       "  <thead>\n",
       "    <tr style=\"text-align: right;\">\n",
       "      <th></th>\n",
       "      <th>Feat00</th>\n",
       "      <th>Feat10</th>\n",
       "      <th>Feat01</th>\n",
       "      <th>Feat20</th>\n",
       "      <th>Feat11</th>\n",
       "      <th>Feat02</th>\n",
       "      <th>Feat30</th>\n",
       "      <th>Feat21</th>\n",
       "      <th>Feat12</th>\n",
       "      <th>Feat03</th>\n",
       "      <th>...</th>\n",
       "      <th>Feat23</th>\n",
       "      <th>Feat14</th>\n",
       "      <th>Feat05</th>\n",
       "      <th>Feat60</th>\n",
       "      <th>Feat51</th>\n",
       "      <th>Feat42</th>\n",
       "      <th>Feat33</th>\n",
       "      <th>Feat24</th>\n",
       "      <th>Feat15</th>\n",
       "      <th>Feat06</th>\n",
       "    </tr>\n",
       "  </thead>\n",
       "  <tbody>\n",
       "    <tr>\n",
       "      <th>0</th>\n",
       "      <td>1.0</td>\n",
       "      <td>0.051267</td>\n",
       "      <td>0.69956</td>\n",
       "      <td>0.002628</td>\n",
       "      <td>0.035864</td>\n",
       "      <td>0.489384</td>\n",
       "      <td>0.000135</td>\n",
       "      <td>0.001839</td>\n",
       "      <td>0.025089</td>\n",
       "      <td>0.342354</td>\n",
       "      <td>...</td>\n",
       "      <td>0.000900</td>\n",
       "      <td>0.012278</td>\n",
       "      <td>0.167542</td>\n",
       "      <td>1.815630e-08</td>\n",
       "      <td>2.477505e-07</td>\n",
       "      <td>0.000003</td>\n",
       "      <td>0.000046</td>\n",
       "      <td>0.000629</td>\n",
       "      <td>0.008589</td>\n",
       "      <td>0.117206</td>\n",
       "    </tr>\n",
       "    <tr>\n",
       "      <th>1</th>\n",
       "      <td>1.0</td>\n",
       "      <td>-0.092742</td>\n",
       "      <td>0.68494</td>\n",
       "      <td>0.008601</td>\n",
       "      <td>-0.063523</td>\n",
       "      <td>0.469143</td>\n",
       "      <td>-0.000798</td>\n",
       "      <td>0.005891</td>\n",
       "      <td>-0.043509</td>\n",
       "      <td>0.321335</td>\n",
       "      <td>...</td>\n",
       "      <td>0.002764</td>\n",
       "      <td>-0.020412</td>\n",
       "      <td>0.150752</td>\n",
       "      <td>6.362953e-07</td>\n",
       "      <td>-4.699318e-06</td>\n",
       "      <td>0.000035</td>\n",
       "      <td>-0.000256</td>\n",
       "      <td>0.001893</td>\n",
       "      <td>-0.013981</td>\n",
       "      <td>0.103256</td>\n",
       "    </tr>\n",
       "    <tr>\n",
       "      <th>2</th>\n",
       "      <td>1.0</td>\n",
       "      <td>-0.213710</td>\n",
       "      <td>0.69225</td>\n",
       "      <td>0.045672</td>\n",
       "      <td>-0.147941</td>\n",
       "      <td>0.479210</td>\n",
       "      <td>-0.009761</td>\n",
       "      <td>0.031616</td>\n",
       "      <td>-0.102412</td>\n",
       "      <td>0.331733</td>\n",
       "      <td>...</td>\n",
       "      <td>0.015151</td>\n",
       "      <td>-0.049077</td>\n",
       "      <td>0.158970</td>\n",
       "      <td>9.526844e-05</td>\n",
       "      <td>-3.085938e-04</td>\n",
       "      <td>0.001000</td>\n",
       "      <td>-0.003238</td>\n",
       "      <td>0.010488</td>\n",
       "      <td>-0.033973</td>\n",
       "      <td>0.110047</td>\n",
       "    </tr>\n",
       "    <tr>\n",
       "      <th>3</th>\n",
       "      <td>1.0</td>\n",
       "      <td>-0.375000</td>\n",
       "      <td>0.50219</td>\n",
       "      <td>0.140625</td>\n",
       "      <td>-0.188321</td>\n",
       "      <td>0.252195</td>\n",
       "      <td>-0.052734</td>\n",
       "      <td>0.070620</td>\n",
       "      <td>-0.094573</td>\n",
       "      <td>0.126650</td>\n",
       "      <td>...</td>\n",
       "      <td>0.017810</td>\n",
       "      <td>-0.023851</td>\n",
       "      <td>0.031940</td>\n",
       "      <td>2.780914e-03</td>\n",
       "      <td>-3.724126e-03</td>\n",
       "      <td>0.004987</td>\n",
       "      <td>-0.006679</td>\n",
       "      <td>0.008944</td>\n",
       "      <td>-0.011978</td>\n",
       "      <td>0.016040</td>\n",
       "    </tr>\n",
       "    <tr>\n",
       "      <th>4</th>\n",
       "      <td>1.0</td>\n",
       "      <td>-0.513250</td>\n",
       "      <td>0.46564</td>\n",
       "      <td>0.263426</td>\n",
       "      <td>-0.238990</td>\n",
       "      <td>0.216821</td>\n",
       "      <td>-0.135203</td>\n",
       "      <td>0.122661</td>\n",
       "      <td>-0.111283</td>\n",
       "      <td>0.100960</td>\n",
       "      <td>...</td>\n",
       "      <td>0.026596</td>\n",
       "      <td>-0.024128</td>\n",
       "      <td>0.021890</td>\n",
       "      <td>1.827990e-02</td>\n",
       "      <td>-1.658422e-02</td>\n",
       "      <td>0.015046</td>\n",
       "      <td>-0.013650</td>\n",
       "      <td>0.012384</td>\n",
       "      <td>-0.011235</td>\n",
       "      <td>0.010193</td>\n",
       "    </tr>\n",
       "  </tbody>\n",
       "</table>\n",
       "<p>5 rows × 28 columns</p>\n",
       "</div>"
      ],
      "text/plain": [
       "   Feat00    Feat10   Feat01    Feat20    Feat11    Feat02    Feat30  \\\n",
       "0     1.0  0.051267  0.69956  0.002628  0.035864  0.489384  0.000135   \n",
       "1     1.0 -0.092742  0.68494  0.008601 -0.063523  0.469143 -0.000798   \n",
       "2     1.0 -0.213710  0.69225  0.045672 -0.147941  0.479210 -0.009761   \n",
       "3     1.0 -0.375000  0.50219  0.140625 -0.188321  0.252195 -0.052734   \n",
       "4     1.0 -0.513250  0.46564  0.263426 -0.238990  0.216821 -0.135203   \n",
       "\n",
       "     Feat21    Feat12    Feat03  ...    Feat23    Feat14    Feat05  \\\n",
       "0  0.001839  0.025089  0.342354  ...  0.000900  0.012278  0.167542   \n",
       "1  0.005891 -0.043509  0.321335  ...  0.002764 -0.020412  0.150752   \n",
       "2  0.031616 -0.102412  0.331733  ...  0.015151 -0.049077  0.158970   \n",
       "3  0.070620 -0.094573  0.126650  ...  0.017810 -0.023851  0.031940   \n",
       "4  0.122661 -0.111283  0.100960  ...  0.026596 -0.024128  0.021890   \n",
       "\n",
       "         Feat60        Feat51    Feat42    Feat33    Feat24    Feat15  \\\n",
       "0  1.815630e-08  2.477505e-07  0.000003  0.000046  0.000629  0.008589   \n",
       "1  6.362953e-07 -4.699318e-06  0.000035 -0.000256  0.001893 -0.013981   \n",
       "2  9.526844e-05 -3.085938e-04  0.001000 -0.003238  0.010488 -0.033973   \n",
       "3  2.780914e-03 -3.724126e-03  0.004987 -0.006679  0.008944 -0.011978   \n",
       "4  1.827990e-02 -1.658422e-02  0.015046 -0.013650  0.012384 -0.011235   \n",
       "\n",
       "     Feat06  \n",
       "0  0.117206  \n",
       "1  0.103256  \n",
       "2  0.110047  \n",
       "3  0.016040  \n",
       "4  0.010193  \n",
       "\n",
       "[5 rows x 28 columns]"
      ]
     },
     "execution_count": 7,
     "metadata": {},
     "output_type": "execute_result"
    }
   ],
   "source": [
    "data.head()"
   ]
  },
  {
   "cell_type": "code",
   "execution_count": 8,
   "metadata": {
    "scrolled": false
   },
   "outputs": [
    {
     "data": {
      "text/plain": [
       "(118, 28)"
      ]
     },
     "execution_count": 8,
     "metadata": {},
     "output_type": "execute_result"
    }
   ],
   "source": [
    "X = data.values #get array for later computing\n",
    "X.shape"
   ]
  },
  {
   "cell_type": "code",
   "execution_count": 9,
   "metadata": {},
   "outputs": [
    {
     "data": {
      "text/plain": [
       "(118,)"
      ]
     },
     "execution_count": 9,
     "metadata": {},
     "output_type": "execute_result"
    }
   ],
   "source": [
    "y = raw_data.iloc[:,-1].values\n",
    "y.shape"
   ]
  },
  {
   "cell_type": "code",
   "execution_count": 10,
   "metadata": {
    "scrolled": true
   },
   "outputs": [
    {
     "data": {
      "text/plain": [
       "(28,)"
      ]
     },
     "execution_count": 10,
     "metadata": {},
     "output_type": "execute_result"
    }
   ],
   "source": [
    "theta = np.zeros(X.shape[1],)\n",
    "theta.shape"
   ]
  },
  {
   "cell_type": "markdown",
   "metadata": {},
   "source": [
    "Remember always to check the demensions of your array/matrix"
   ]
  },
  {
   "cell_type": "markdown",
   "metadata": {},
   "source": [
    "# 2. Model Implementation \n",
    "\n",
    "In this part, we will build and use all the main functions we need in Logitstic Regression from stretch, which are:\n",
    "<ul>\n",
    "<li>Sigmoid Function</li>\n",
    "<li>Cost Function</li>\n",
    "<li>Gradient Descent</li>\n",
    "</ul>       "
   ]
  },
  {
   "cell_type": "markdown",
   "metadata": {},
   "source": [
    "### 2.1 Sigmoid Function\n",
    "$$h(z) = \\frac{1}{(1 + e^{-z})} $$"
   ]
  },
  {
   "cell_type": "code",
   "execution_count": 11,
   "metadata": {},
   "outputs": [],
   "source": [
    "def sigmoid(z):\n",
    "    return 1/(1+np.exp(-z))"
   ]
  },
  {
   "cell_type": "markdown",
   "metadata": {},
   "source": [
    "### 2.2 Cost Function\n"
   ]
  },
  {
   "cell_type": "markdown",
   "metadata": {},
   "source": [
    "$$J(\\theta) = \\frac{1}{m}[-y*log(h(X @ \\theta)) - (1-y)*log(1-h(X@\\theta))] + \\frac{\\lambda}{2m}\\sum_{j = 1}^n \\theta^2_j$$"
   ]
  },
  {
   "cell_type": "code",
   "execution_count": 12,
   "metadata": {},
   "outputs": [],
   "source": [
    "def costFunction(X,y,theta,Lambda):\n",
    "    m = len(X)\n",
    "    \n",
    "    first = -y *np.log(sigmoid(X@theta))\n",
    "    second = -(1-y)* np.log(1-sigmoid(X@theta))\n",
    "    reg = Lambda/(2*m) * (theta[1:] @theta[1:])\n",
    "    \n",
    "    J = np.mean(first + second) + reg\n",
    "    \n",
    "    return J"
   ]
  },
  {
   "cell_type": "code",
   "execution_count": 13,
   "metadata": {},
   "outputs": [
    {
     "data": {
      "text/plain": [
       "0.6931471805599454"
      ]
     },
     "execution_count": 13,
     "metadata": {},
     "output_type": "execute_result"
    }
   ],
   "source": [
    "costFunction(X,y,theta,Lambda = 1)"
   ]
  },
  {
   "cell_type": "markdown",
   "metadata": {},
   "source": [
    "### 2.3 Gradient Descent"
   ]
  },
  {
   "cell_type": "markdown",
   "metadata": {},
   "source": [
    "$$ \\frac{\\partial J(\\theta)}{\\partial \\theta_j}= (\\frac{1}{m} \\sum_{i=1}^m (h(X@ \\theta) - y)x^{(i)}_j) + \\frac{\\lambda}{m} \\theta_j$$\n",
    "*Dont forget alpha to control the speed"
   ]
  },
  {
   "cell_type": "code",
   "execution_count": 14,
   "metadata": {},
   "outputs": [],
   "source": [
    "def gradientDescent(theta,X,y,alpha,iters,Lambda):\n",
    "# the reason why we put theta as the 1st argument is because scipy.optimize.fmin_tnc required so when we pass a targt function.\n",
    "    m = len(X)\n",
    "    costs = []\n",
    "    min_cost = 1000000\n",
    "    \n",
    "    for i in range(iters):\n",
    "        reg =(Lambda/m)* theta[1:]\n",
    "        reg = np.insert(reg,0, values = 0, axis =0) #add a row of 0 to avoid penalizaing the theta[0] but keeping the shape when calculating\n",
    "        theta = theta - alpha * (X.T@(sigmoid(X@theta)-y)) + reg\n",
    "        cost = costFunction(X,y,theta,Lambda)\n",
    "        costs.append(cost)        \n",
    "        if  cost < min_cost:\n",
    "            min_cost = cost\n",
    "            best_theta = theta\n",
    "        \n",
    "        if i%20000 ==0:\n",
    "            print(cost)            \n",
    "    return theta,costs, best_theta"
   ]
  },
  {
   "cell_type": "code",
   "execution_count": 15,
   "metadata": {},
   "outputs": [],
   "source": [
    "alpha = 0.001\n",
    "iters = 200000\n",
    "Lambda = 0.001"
   ]
  },
  {
   "cell_type": "code",
   "execution_count": 16,
   "metadata": {
    "scrolled": true
   },
   "outputs": [
    {
     "name": "stdout",
     "output_type": "stream",
     "text": [
      "0.6916491228581043\n",
      "0.3283036348279984\n",
      "0.3207209345605986\n",
      "0.31704061996136523\n",
      "0.3149140239597239\n",
      "0.3136578924898839\n",
      "0.3131062749076419\n",
      "0.31331984158975806\n",
      "0.314487533822142\n",
      "0.3168958253281081\n"
     ]
    }
   ],
   "source": [
    "theta_final,costs, best_theta =gradientDescent(theta,X,y,alpha,iters,Lambda)"
   ]
  },
  {
   "cell_type": "code",
   "execution_count": 17,
   "metadata": {},
   "outputs": [
    {
     "data": {
      "text/plain": [
       "[<matplotlib.lines.Line2D at 0x14f2f19e2c8>]"
      ]
     },
     "execution_count": 17,
     "metadata": {},
     "output_type": "execute_result"
    },
    {
     "data": {
      "image/png": "[encoded data removed]",
      "text/plain": [
       "<Figure size 432x288 with 1 Axes>"
      ]
     },
     "metadata": {
      "needs_background": "light"
     },
     "output_type": "display_data"
    }
   ],
   "source": [
    "plt.plot([iters for iters in range(200000)], costs)"
   ]
  },
  {
   "cell_type": "markdown",
   "metadata": {},
   "source": [
    "# 3. Performance Evaluation "
   ]
  },
  {
   "cell_type": "code",
   "execution_count": 18,
   "metadata": {},
   "outputs": [],
   "source": [
    "def predict(X,theta):\n",
    "    prob = sigmoid(X@theta)\n",
    "    return [1 if x>=0.5 else 0 for x in prob]"
   ]
  },
  {
   "cell_type": "code",
   "execution_count": 19,
   "metadata": {},
   "outputs": [
    {
     "name": "stdout",
     "output_type": "stream",
     "text": [
      "Accuracy is  0.8389830508474576\n"
     ]
    }
   ],
   "source": [
    "y_= np.array(predict(X,best_theta))\n",
    "y_pred = y_.reshape(len(y_),)\n",
    "acc= np.mean(y_pred == y)\n",
    "print(\"Accuracy is \",acc)"
   ]
  },
  {
   "cell_type": "code",
   "execution_count": 21,
   "metadata": {},
   "outputs": [
    {
     "data": {
      "image/png": "[encoded data removed]",
      "text/plain": [
       "<Figure size 432x288 with 1 Axes>"
      ]
     },
     "metadata": {
      "needs_background": "light"
     },
     "output_type": "display_data"
    }
   ],
   "source": [
    "x =np.linspace(-1.0, 1.2 ,200)\n",
    "xx,yy = np.meshgrid(x,x)\n",
    "z = feature_mapping(xx.ravel(), yy.ravel(),6).values\n",
    "zz = z @ theta_final\n",
    "zz= zz.reshape(xx.shape)\n",
    "fig,ax = plt.subplots() #initialize instance: fig, ax\n",
    "ax.scatter(raw_data.loc[raw_data.Accepted == 1, \"Test1\"],\n",
    "            raw_data.loc[raw_data.Accepted == 1, \"Test2\"],\n",
    "            label =\"Accepted\", marker = \"o\",c = \"b\")\n",
    "    \n",
    "ax.scatter(raw_data.loc[raw_data.Accepted == 0,\"Test1\"],\n",
    "            raw_data.loc[raw_data.Accepted == 0 , \"Test2\"],\n",
    "            label = \"Rejected\", marker = \"x\",c = \"r\")\n",
    "ax.legend()\n",
    "ax.set(xlabel = \"\",ylabel = \"\")\n",
    "plt.contour(xx,yy,zz,0)\n",
    "plt.show()"
   ]
  },
  {
   "cell_type": "markdown",
   "metadata": {},
   "source": [
    "Now we have a circle that correctly seperates most of the positive and negative samples.  "
   ]
  }
 ],
 "metadata": {
  "kernelspec": {
   "display_name": "Python 3",
   "language": "python",
   "name": "python3"
  },
  "language_info": {
   "codemirror_mode": {
    "name": "ipython",
    "version": 3
   },
   "file_extension": ".py",
   "mimetype": "text/x-python",
   "name": "python",
   "nbconvert_exporter": "python",
   "pygments_lexer": "ipython3",
   "version": "3.7.6"
  }
 },
 "nbformat": 4,
 "nbformat_minor": 4
}
