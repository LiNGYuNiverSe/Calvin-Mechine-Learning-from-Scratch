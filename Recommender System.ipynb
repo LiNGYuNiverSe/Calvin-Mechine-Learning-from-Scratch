{
 "cells": [
  {
   "cell_type": "code",
   "execution_count": 1,
   "metadata": {},
   "outputs": [],
   "source": [
    "import numpy as np\n",
    "import pandas as pd\n",
    "from scipy import io as sio"
   ]
  },
  {
   "cell_type": "markdown",
   "metadata": {},
   "source": [
    "# 1 Data Preparation\n",
    "### 1.1 Read Data"
   ]
  },
  {
   "cell_type": "code",
   "execution_count": 2,
   "metadata": {},
   "outputs": [
    {
     "data": {
      "text/plain": [
       "dict_keys(['__header__', '__version__', '__globals__', 'Y', 'R'])"
      ]
     },
     "execution_count": 2,
     "metadata": {},
     "output_type": "execute_result"
    }
   ],
   "source": [
    "data = sio.loadmat(\"./ex8/ex8_movies.mat\")\n",
    "data.keys()"
   ]
  },
  {
   "cell_type": "code",
   "execution_count": 3,
   "metadata": {},
   "outputs": [
    {
     "data": {
      "text/plain": [
       "((1682, 943), (1682, 943))"
      ]
     },
     "execution_count": 3,
     "metadata": {},
     "output_type": "execute_result"
    }
   ],
   "source": [
    "Y, R = data[\"Y\"], data[\"R\"] #Y-> all moive ratings R-> if rated\n",
    "Y.shape, R.shape\n",
    "\n",
    "#1682 moives and 943 users"
   ]
  },
  {
   "cell_type": "code",
   "execution_count": 4,
   "metadata": {},
   "outputs": [
    {
     "data": {
      "text/plain": [
       "dict_keys(['__header__', '__version__', '__globals__', 'X', 'Theta', 'num_users', 'num_movies', 'num_features'])"
      ]
     },
     "execution_count": 4,
     "metadata": {},
     "output_type": "execute_result"
    }
   ],
   "source": [
    "param_mat = sio.loadmat('./ex8/ex8_movieParams.mat')\n",
    "param_mat.keys()"
   ]
  },
  {
   "cell_type": "code",
   "execution_count": 5,
   "metadata": {},
   "outputs": [],
   "source": [
    "X, Theta, nu, nm, nf= param_mat[\"X\"], param_mat[\"Theta\"], param_mat[\"num_users\"], param_mat[\"num_movies\"], param_mat[\"num_features\"]"
   ]
  },
  {
   "cell_type": "code",
   "execution_count": 6,
   "metadata": {},
   "outputs": [
    {
     "data": {
      "text/plain": [
       "((1682, 10),\n",
       " (943, 10),\n",
       " array([[943]], dtype=uint16),\n",
       " array([[1682]], dtype=uint16),\n",
       " array([[10]], dtype=uint8))"
      ]
     },
     "execution_count": 6,
     "metadata": {},
     "output_type": "execute_result"
    }
   ],
   "source": [
    "X.shape, Theta.shape, nu, nm,nf"
   ]
  },
  {
   "cell_type": "code",
   "execution_count": 7,
   "metadata": {},
   "outputs": [
    {
     "data": {
      "text/plain": [
       "(943, 1682, 10)"
      ]
     },
     "execution_count": 7,
     "metadata": {},
     "output_type": "execute_result"
    }
   ],
   "source": [
    "#save as int dtype\n",
    "nu, nm, nf = map(int,[nu, nm, nf])\n",
    "nu, nm, nf"
   ]
  },
  {
   "cell_type": "markdown",
   "metadata": {},
   "source": [
    "# 2. Model Implementation"
   ]
  },
  {
   "cell_type": "markdown",
   "metadata": {},
   "source": [
    "### 2.1 Serialization\n",
    "The reason of using serialization is because we need to use scipy to minimize both and Theta simultaneously. However, Scipy requires 1-d array only."
   ]
  },
  {
   "cell_type": "code",
   "execution_count": 8,
   "metadata": {},
   "outputs": [],
   "source": [
    "def serialize(X, Theta):\n",
    "    return np.append(X.flatten(), Theta.flatten())"
   ]
  },
  {
   "cell_type": "markdown",
   "metadata": {},
   "source": [
    "### 2.2 Deserialization"
   ]
  },
  {
   "cell_type": "code",
   "execution_count": 9,
   "metadata": {},
   "outputs": [],
   "source": [
    "def deserialize(params, nm, nu, nf):\n",
    "    X = params[:nm*nf].reshape(nm,nf)\n",
    "    Theta = params[nm*nf:].reshape(nu, nf)\n",
    "    return X, Theta"
   ]
  },
  {
   "cell_type": "markdown",
   "metadata": {},
   "source": [
    "### 2.3 Cost Function"
   ]
  },
  {
   "cell_type": "code",
   "execution_count": 10,
   "metadata": {},
   "outputs": [],
   "source": [
    "def costFunction(params, Y, R, nm, nu, nf, Lambda):\n",
    "    X, Theta = deserialize(params,nm, nu, nf)\n",
    "    error = 0.5 * np.square((X @Theta.T- Y) * R).sum() # rated only, R(- {0,1}\n",
    "    reg1 = 0.5 * Lambda * np.square(X).sum()\n",
    "    reg2 = 0.5 * Lambda * np.square(Theta).sum()\n",
    "    return error + reg1 + reg2"
   ]
  },
  {
   "cell_type": "code",
   "execution_count": 11,
   "metadata": {},
   "outputs": [
    {
     "data": {
      "text/plain": [
       "22.224603725685675"
      ]
     },
     "execution_count": 11,
     "metadata": {},
     "output_type": "execute_result"
    }
   ],
   "source": [
    "#slice for testing\n",
    "users = 4\n",
    "moives = 5\n",
    "features = 3\n",
    "X_sub = X[:moives,:features]\n",
    "Theta_sub = Theta[:users,:features]\n",
    "Y_sub = Y[:moives,:users]\n",
    "R_sub = R[:moives,:users]\n",
    "cost1 = costFunction(serialize(X_sub, Theta_sub), Y_sub, R_sub, moives, users, features, Lambda = 0)\n",
    "cost1"
   ]
  },
  {
   "cell_type": "code",
   "execution_count": 12,
   "metadata": {},
   "outputs": [
    {
     "data": {
      "text/plain": [
       "31.344056244274217"
      ]
     },
     "execution_count": 12,
     "metadata": {},
     "output_type": "execute_result"
    }
   ],
   "source": [
    "cost2 = costFunction(serialize(X_sub, Theta_sub), Y_sub, R_sub, moives, users, features, Lambda = 1.5)\n",
    "cost2"
   ]
  },
  {
   "cell_type": "markdown",
   "metadata": {},
   "source": [
    "### 2.4 Gradient"
   ]
  },
  {
   "cell_type": "code",
   "execution_count": 37,
   "metadata": {},
   "outputs": [],
   "source": [
    "def costGradient(params, Y,R, nm, nu, nf, Lambda):\n",
    "    X, Theta = deserialize(params, nm, nu, nf)\n",
    "    X_grad = ((X @ Theta.T - Y) * R) @ Theta + Lambda * X\n",
    "    Theta_grad =((X @ Theta.T - Y) * R).T @ X + Lambda * Theta\n",
    "    return serialize(X_grad,Theta_grad)"
   ]
  },
  {
   "cell_type": "code",
   "execution_count": 38,
   "metadata": {},
   "outputs": [],
   "source": [
    "# add a new user\n",
    "my_ratings = np.zeros((nm,1))\n",
    "my_ratings[9] = 5\n",
    "my_ratings[66] = 5\n",
    "my_ratings[96] = 5\n",
    "my_ratings[121] = 4\n",
    "my_ratings[148] = 4\n",
    "my_ratings[285] = 3\n",
    "my_ratings[490] = 4\n",
    "my_ratings[599] = 4\n",
    "my_ratings[643] = 4\n",
    "my_ratings[958] = 5\n",
    "my_ratings[1117]= 3"
   ]
  },
  {
   "cell_type": "code",
   "execution_count": 39,
   "metadata": {},
   "outputs": [],
   "source": [
    "# add a column\n",
    "Y = np.c_[Y, my_ratings]\n",
    "R = np.c_[R, my_ratings!= 0]\n",
    "nm,nu = Y.shape"
   ]
  },
  {
   "cell_type": "markdown",
   "metadata": {},
   "source": [
    "### 2.5 Mean Normalization"
   ]
  },
  {
   "cell_type": "code",
   "execution_count": 40,
   "metadata": {},
   "outputs": [],
   "source": [
    "def normalizeRatings(Y,R):\n",
    "    Y_mean = (Y.sum(axis =1)/ R.sum(axis = 1)).reshape(-1,1)\n",
    "    Y_norm = (Y-Y_mean)* R\n",
    "    return Y_norm, Y_mean\n",
    "\n",
    "Y_norm, Y_mean = normalizeRatings(Y,R)"
   ]
  },
  {
   "cell_type": "markdown",
   "metadata": {},
   "source": [
    "### 2.6 Parameters Initialization"
   ]
  },
  {
   "cell_type": "code",
   "execution_count": 41,
   "metadata": {},
   "outputs": [],
   "source": [
    "X = np.random.random((nm,nf))\n",
    "Theta = np.random.random((nu,nf))\n",
    "params = serialize(X,Theta)\n",
    "\n",
    "Lambda = 5"
   ]
  },
  {
   "cell_type": "markdown",
   "metadata": {},
   "source": [
    "### 2.6 Gradient Descent with Scipy"
   ]
  },
  {
   "cell_type": "code",
   "execution_count": 43,
   "metadata": {},
   "outputs": [],
   "source": [
    "from scipy.optimize import minimize\n",
    "res = Y_minimize(fun = costFunction,\n",
    "         x0 = params,\n",
    "         args = (Y_norm, R, nm, nu, nf, Lambda),\n",
    "         method = \"TNC\",\n",
    "         jac = costGradient,\n",
    "         options={\"maxiter\": 100})\n",
    "params_fit = res.x\n",
    "fit_X, fit_Theta =deserialize(params_fit,nm,nu,nf)"
   ]
  },
  {
   "cell_type": "markdown",
   "metadata": {},
   "source": [
    "# 3. Model Evaluation"
   ]
  },
  {
   "cell_type": "code",
   "execution_count": 47,
   "metadata": {},
   "outputs": [],
   "source": [
    "#all user\n",
    "Y_pred = fit_X @ fit_Theta.T"
   ]
  },
  {
   "cell_type": "code",
   "execution_count": 61,
   "metadata": {},
   "outputs": [
    {
     "data": {
      "text/plain": [
       "array([1598, 1121,  813, 1535, 1188, 1292, 1652, 1200, 1499, 1466],\n",
       "      dtype=int64)"
      ]
     },
     "execution_count": 61,
     "metadata": {},
     "output_type": "execute_result"
    }
   ],
   "source": [
    "# new added user\n",
    "y_pred =  Y_pred[:,-1] + Y_mean.flatten()\n",
    "# np.argsort -> sort values in ascending order and return each index, use [::-1] or np.argsort(-y_pred) to reverse \n",
    "index = np.argsort(y_pred)[::-1] \n",
    "# top 10 moive recommended\n",
    "index[:10]"
   ]
  },
  {
   "cell_type": "code",
   "execution_count": 68,
   "metadata": {},
   "outputs": [
    {
     "name": "stdout",
     "output_type": "stream",
     "text": [
      "1598 SomeoneElse'sAmerica(1995) 5.003268209470818\n",
      "1121 TheyMadeMeaCriminal(1939) 5.001885788673767\n",
      "813 GreatDayinHarlem,A(1994) 5.001714194980393\n",
      "1535 Aiqingwansui(1994) 5.000859107481553\n",
      "1188 Prefontaine(1997) 5.00063688523736\n",
      "1292 StarKid(1997) 4.999864592553755\n",
      "1652 EntertainingAngels:TheDorothyDayStory(1996) 4.999828299043169\n",
      "1200 MarleneDietrich:ShadowandLight(1996) 4.99859579231539\n",
      "1499 SantawithMuscles(1996) 4.998493754110596\n",
      "1466 SaintofFortWashington,The(1993) 4.996387203463531\n"
     ]
    }
   ],
   "source": [
    "movies = []\n",
    "with open(\"./ex8/movie_ids.txt\", \"r\",encoding = \"latin 1\") as f:\n",
    "    for line in f:\n",
    "        tokens = line.strip().split()\n",
    "        movies.append(\"\".join(tokens[1:]))\n",
    "for i in range(10):\n",
    "    print(index[i], movies[index[i]], y_pred[index[i]])"
   ]
  },
  {
   "cell_type": "markdown",
   "metadata": {},
   "source": [
    "Now, we have predicted 10 movies for the new user we added :)"
   ]
  }
 ],
 "metadata": {
  "kernelspec": {
   "display_name": "Python 3",
   "language": "python",
   "name": "python3"
  },
  "language_info": {
   "codemirror_mode": {
    "name": "ipython",
    "version": 3
   },
   "file_extension": ".py",
   "mimetype": "text/x-python",
   "name": "python",
   "nbconvert_exporter": "python",
   "pygments_lexer": "ipython3",
   "version": "3.7.6"
  }
 },
 "nbformat": 4,
 "nbformat_minor": 4
}
