{
 "cells": [
  {
   "cell_type": "markdown",
   "metadata": {},
   "source": [
    "# 1. Data Preparation and Visualization "
   ]
  },
  {
   "cell_type": "markdown",
   "metadata": {},
   "source": [
    "### 1.1 Read data"
   ]
  },
  {
   "cell_type": "code",
   "execution_count": 1,
   "metadata": {},
   "outputs": [],
   "source": [
    "import pandas as pd\n",
    "import numpy as np\n",
    "from matplotlib import pyplot as plt\n",
    "from scipy.optimize import minimize\n",
    "from scipy import io as sio\n",
    "#pd.set_option(\"display\")"
   ]
  },
  {
   "cell_type": "code",
   "execution_count": 2,
   "metadata": {},
   "outputs": [
    {
     "data": {
      "text/plain": [
       "dict_keys(['__header__', '__version__', '__globals__', 'X', 'y'])"
      ]
     },
     "execution_count": 2,
     "metadata": {},
     "output_type": "execute_result"
    }
   ],
   "source": [
    "data = sio.loadmat(\"./ex4/ex4data1.mat\")\n",
    "data.keys()"
   ]
  },
  {
   "cell_type": "code",
   "execution_count": 3,
   "metadata": {},
   "outputs": [
    {
     "name": "stdout",
     "output_type": "stream",
     "text": [
      "(5000, 400) (5000, 1)\n",
      "(5000, 401)\n"
     ]
    }
   ],
   "source": [
    "raw_X,raw_y = data[\"X\"], data[\"y\"]\n",
    "print(raw_X.shape,raw_y.shape)\n",
    "X =np.insert(raw_X,0, values = 0, axis = 1)\n",
    "print(X.shape)"
   ]
  },
  {
   "cell_type": "code",
   "execution_count": 4,
   "metadata": {},
   "outputs": [
    {
     "name": "stdout",
     "output_type": "stream",
     "text": [
      "(25, 401) (10, 26)\n"
     ]
    }
   ],
   "source": [
    "theta = sio.loadmat(\"./ex4/ex4weights.mat\")\n",
    "theta1,theta2 = theta[\"Theta1\"],theta[\"Theta2\"]\n",
    "print(theta1.shape,theta2.shape)"
   ]
  },
  {
   "cell_type": "markdown",
   "metadata": {},
   "source": [
    "The 400 features here represents the gray scale of each pixel(400 = 20 * 20).\n",
    "the first col of (25,401) is for bias unit, which requries us to add it by ourselves  "
   ]
  },
  {
   "cell_type": "markdown",
   "metadata": {},
   "source": [
    "### 1.2 One hot encoding"
   ]
  },
  {
   "cell_type": "code",
   "execution_count": 5,
   "metadata": {},
   "outputs": [],
   "source": [
    "def one_hot_encoder(raw_y):\n",
    "    result = []  \n",
    "    for i in raw_y: # loop 5000 times\n",
    "        y_temp = np.zeros(10,) \n",
    "        y_temp[i-1] = 1\n",
    "        result.append(y_temp)\n",
    "    return np.array(result) "
   ]
  },
  {
   "cell_type": "code",
   "execution_count": 6,
   "metadata": {},
   "outputs": [],
   "source": [
    "y = one_hot_encoder(raw_y)"
   ]
  },
  {
   "cell_type": "code",
   "execution_count": 7,
   "metadata": {},
   "outputs": [
    {
     "data": {
      "text/plain": [
       "array([[0., 0., 0., ..., 0., 0., 1.],\n",
       "       [0., 0., 0., ..., 0., 0., 1.],\n",
       "       [0., 0., 0., ..., 0., 0., 1.],\n",
       "       ...,\n",
       "       [0., 0., 0., ..., 0., 1., 0.],\n",
       "       [0., 0., 0., ..., 0., 1., 0.],\n",
       "       [0., 0., 0., ..., 0., 1., 0.]])"
      ]
     },
     "execution_count": 7,
     "metadata": {},
     "output_type": "execute_result"
    }
   ],
   "source": [
    "y"
   ]
  },
  {
   "cell_type": "markdown",
   "metadata": {},
   "source": [
    "### 1.2 Serialize weight\n",
    "Because scipy.minimize require 1d array so we need to flatten weight"
   ]
  },
  {
   "cell_type": "code",
   "execution_count": 8,
   "metadata": {},
   "outputs": [],
   "source": [
    "def serialize(a,b):\n",
    "    return np.append(a.flatten(),b.flatten())"
   ]
  },
  {
   "cell_type": "code",
   "execution_count": 9,
   "metadata": {},
   "outputs": [
    {
     "data": {
      "text/plain": [
       "(10285,)"
      ]
     },
     "execution_count": 9,
     "metadata": {},
     "output_type": "execute_result"
    }
   ],
   "source": [
    "theta_serialize = serialize(theta1,theta2)\n",
    "theta_serialize.shape"
   ]
  },
  {
   "cell_type": "markdown",
   "metadata": {},
   "source": [
    "### 1.3 De-serialize"
   ]
  },
  {
   "cell_type": "code",
   "execution_count": 10,
   "metadata": {},
   "outputs": [],
   "source": [
    "def deserialize(theta_serialize):\n",
    "    theta1 = theta_serialize[:25*401].reshape(25,401)\n",
    "    theta2 = theta_serialize[25*401:].reshape(10,26)\n",
    "    return theta1,theta2"
   ]
  },
  {
   "cell_type": "markdown",
   "metadata": {},
   "source": [
    "# 2 Model Implementation"
   ]
  },
  {
   "cell_type": "markdown",
   "metadata": {},
   "source": [
    "### 2.1 Sigmoid Function\n",
    "$$h(z) = \\frac{1}{(1 + e^{-z})} $$"
   ]
  },
  {
   "cell_type": "code",
   "execution_count": 11,
   "metadata": {},
   "outputs": [],
   "source": [
    "def sigmoid(z):\n",
    "    return 1/(1+np.exp(-z))"
   ]
  },
  {
   "cell_type": "markdown",
   "metadata": {},
   "source": [
    "### 2.2 Forward Propagation"
   ]
  },
  {
   "cell_type": "markdown",
   "metadata": {},
   "source": [
    "<img src = \"https://raw.githubusercontent.com/ritchieng/machine-learning-stanford/master/w4_neural_networks_representation/neural_network.png\" height = 400, width = 500>"
   ]
  },
  {
   "cell_type": "markdown",
   "metadata": {},
   "source": [
    "<img src = \"https://raw.githubusercontent.com/ritchieng/machine-learning-stanford/master/w4_neural_networks_representation/neural_network2.png\" height = 400, width = 500>"
   ]
  },
  {
   "cell_type": "markdown",
   "metadata": {},
   "source": [
    "Given the shape of input layer is (5000,400) and there are  25 activition units in layer 1, so theta1.shape should be (400+1,25). However, the theta1 provided here is (25, 401).Thus, we need to use the transpose of theta1. Similary, we need to transpose theta2 as well."
   ]
  },
  {
   "cell_type": "code",
   "execution_count": 12,
   "metadata": {},
   "outputs": [],
   "source": [
    "def forward_propagation(theta_serialize,X):\n",
    "    theta1, theta2 = deserialize(theta_serialize)\n",
    "    a1 = X\n",
    "    z2 = a1@ theta1.T\n",
    "    a2 = sigmoid(z2)\n",
    "    a2 = np.insert(a2,0,values = 1,axis = 1,)\n",
    "    z3 = a2@theta2.T\n",
    "    h = sigmoid(z3)\n",
    "    return a1,z2,a2,z3,h"
   ]
  },
  {
   "cell_type": "markdown",
   "metadata": {},
   "source": [
    "### 2.3 Cost Function"
   ]
  },
  {
   "cell_type": "code",
   "execution_count": 13,
   "metadata": {},
   "outputs": [],
   "source": [
    "def costFunc(theta_serialize, X,y):\n",
    "    a1,z2,a2,z3,h = forward_propagation(theta_serialize,X)\n",
    "    m=len(X)\n",
    "    J = -1/m * np.sum(y*np.log(h)+(1-y)*np.log(1-h))\n",
    "    return J"
   ]
  },
  {
   "cell_type": "code",
   "execution_count": 14,
   "metadata": {},
   "outputs": [
    {
     "data": {
      "text/plain": [
       "0.30535432764413767"
      ]
     },
     "execution_count": 14,
     "metadata": {},
     "output_type": "execute_result"
    }
   ],
   "source": [
    "costFunc(theta_serialize, X,y)"
   ]
  },
  {
   "cell_type": "markdown",
   "metadata": {},
   "source": [
    "### 2.4 Cost Function with Regularization"
   ]
  },
  {
   "cell_type": "code",
   "execution_count": 15,
   "metadata": {},
   "outputs": [],
   "source": [
    "def cost_Func(theta_serialize, X,y,Lambda):\n",
    "    m = len(X)\n",
    "    sum1 = np.sum(pow(theta1[:,1:],2))\n",
    "    sum2 = np.sum(pow(theta2[:,1:],2))\n",
    "    reg = (sum1+sum2)*Lambda/(2*len(X))\n",
    "    return reg+ costFunc(theta_serialize,X,y)"
   ]
  },
  {
   "cell_type": "code",
   "execution_count": 16,
   "metadata": {},
   "outputs": [
    {
     "data": {
      "text/plain": [
       "0.4014950215737424"
      ]
     },
     "execution_count": 16,
     "metadata": {},
     "output_type": "execute_result"
    }
   ],
   "source": [
    "cost_Func(theta_serialize, X,y,Lambda = 1)"
   ]
  },
  {
   "cell_type": "markdown",
   "metadata": {},
   "source": [
    "### 2.5 Gradient Descent\n",
    "##### 2.5.1 Sigmoid gradient (derivative)\n",
    "$$h'(z)= \\frac{d}{dz}h(z)=h(z)(1-h(z))$$\n"
   ]
  },
  {
   "cell_type": "code",
   "execution_count": 86,
   "metadata": {},
   "outputs": [],
   "source": [
    "def sigmoid_gradient(z):\n",
    "    return sigmoid(z) * (1-sigmoid(z))"
   ]
  },
  {
   "cell_type": "markdown",
   "metadata": {},
   "source": [
    "##### 2.5.2 Gradient vector without reg"
   ]
  },
  {
   "cell_type": "code",
   "execution_count": 18,
   "metadata": {},
   "outputs": [],
   "source": [
    "def gradient(theta_serialize,X,y):\n",
    "    m = len(X)\n",
    "    theta1,theta2 = deserialize(theta_serialize)\n",
    "    a1,z2,a2,z3,h = forward_propagation(theta_serialize, X)\n",
    "    d3 = h-y\n",
    "    d2 = d3 @ theta2[:,1:]*sigmoid_gradient(z2)\n",
    "    D2 = (d3.T @ a2) / m\n",
    "    D1 = (d2.T @ a1) / m\n",
    "    return serialize(D1,D2)"
   ]
  },
  {
   "cell_type": "markdown",
   "metadata": {},
   "source": [
    "##### 2.5.3 Gradient vector with reg"
   ]
  },
  {
   "cell_type": "code",
   "execution_count": 49,
   "metadata": {},
   "outputs": [],
   "source": [
    "def reg_gradient(theta_serialize, X,y,Lambda):\n",
    "    m = len(X)\n",
    "    D =gradient(theta_serialize,X,y)\n",
    "    D1,D2 = deserialize(D)\n",
    "    \n",
    "    theta1,theta2 = deserialize(theta_serialize)\n",
    "    D1[:,1:] = D1[:,1:] + theta1[:,1:] * Lambda/m\n",
    "    D2[:,1:] = D2[:,1:] + theta2[:,1:] * Lambda/m\n",
    "    \n",
    "    return serialize(D1,D2)\n"
   ]
  },
  {
   "cell_type": "markdown",
   "metadata": {},
   "source": [
    "##### 2.5.4 Gradient descent using TNC"
   ]
  },
  {
   "cell_type": "code",
   "execution_count": 50,
   "metadata": {},
   "outputs": [],
   "source": [
    "def nn_training(X,y):\n",
    "    init_theta = np.random.uniform(-0.5,0.5,10285)\n",
    "    res = minimize(fun=costFunc,x0 = init_theta,\n",
    "                  args = (X,y),\n",
    "                  method = \"TNC\",\n",
    "                  jac = gradient,\n",
    "                  options = {\"maxiter\": 300})\n",
    "    return res"
   ]
  },
  {
   "cell_type": "code",
   "execution_count": 51,
   "metadata": {
    "scrolled": true
   },
   "outputs": [
    {
     "name": "stderr",
     "output_type": "stream",
     "text": [
      "C:\\Users\\caoli\\anaconda3\\lib\\site-packages\\ipykernel_launcher.py:4: RuntimeWarning: divide by zero encountered in log\n",
      "  after removing the cwd from sys.path.\n",
      "C:\\Users\\caoli\\anaconda3\\lib\\site-packages\\ipykernel_launcher.py:4: RuntimeWarning: invalid value encountered in multiply\n",
      "  after removing the cwd from sys.path.\n"
     ]
    }
   ],
   "source": [
    "res = nn_training(X,y)"
   ]
  },
  {
   "cell_type": "markdown",
   "metadata": {},
   "source": [
    "# 3. Evaluation"
   ]
  },
  {
   "cell_type": "markdown",
   "metadata": {},
   "source": [
    "##### 3.1 Using gradient without reg"
   ]
  },
  {
   "cell_type": "code",
   "execution_count": 52,
   "metadata": {},
   "outputs": [
    {
     "data": {
      "text/plain": [
       "0.9964"
      ]
     },
     "execution_count": 52,
     "metadata": {},
     "output_type": "execute_result"
    }
   ],
   "source": [
    "raw_y = data[\"y\"].reshape(5000,)\n",
    "_,_,_,_,h = forward_propagation(res.x,X) #fp to get h(x)\n",
    "y_pred = np.argmax(h,axis = 1) +1\n",
    "acc = np.mean(y_pred == raw_y)\n",
    "acc"
   ]
  },
  {
   "cell_type": "markdown",
   "metadata": {},
   "source": [
    "Since we didn't use regularzation, we have an overfitting issue. Now let's try to incorporate that."
   ]
  },
  {
   "cell_type": "markdown",
   "metadata": {},
   "source": [
    "##### 3.2 Using graident with reg"
   ]
  },
  {
   "cell_type": "code",
   "execution_count": 53,
   "metadata": {},
   "outputs": [],
   "source": [
    "def nn_training_reg(X,y):\n",
    "    init_theta = np.random.uniform(-0.5,0.5,10285)\n",
    "    res = minimize(fun=cost_Func,x0 = init_theta,\n",
    "                  args = (X,y,Lambda),\n",
    "                  method = \"TNC\",\n",
    "                  jac = reg_gradient,\n",
    "                  options = {\"maxiter\": 300})\n",
    "    return res"
   ]
  },
  {
   "cell_type": "code",
   "execution_count": 55,
   "metadata": {},
   "outputs": [],
   "source": [
    "Lambda = 10\n",
    "res = nn_training_reg(X,y)"
   ]
  },
  {
   "cell_type": "code",
   "execution_count": 58,
   "metadata": {},
   "outputs": [
    {
     "data": {
      "text/plain": [
       "0.944"
      ]
     },
     "execution_count": 58,
     "metadata": {},
     "output_type": "execute_result"
    }
   ],
   "source": [
    "_,_,_,_,h=forward_propagation(res.x,X)\n",
    "y_pred = np.argmax(h ,axis = 1) + 1\n",
    "acc= np.mean(y_pred == raw_y)\n",
    "acc"
   ]
  },
  {
   "cell_type": "markdown",
   "metadata": {},
   "source": [
    "Now we have addressed the overfitting issue occurred"
   ]
  },
  {
   "cell_type": "code",
   "execution_count": 84,
   "metadata": {},
   "outputs": [],
   "source": [
    "def plot_hidden_layer(theta):\n",
    "    theta1,_=deserialize(theta)\n",
    "    hidden_layer = theta1[:,1:]\n",
    "    fig,ax =plt.subplots(ncols= 5,nrows= 5, figsize= (8,8), sharex=True, sharey = True)\n",
    "    \n",
    "    for r in range(5):\n",
    "        for c in range(5):\n",
    "            ax[r,c].imshow(hidden_layer[5*r+c].reshape(20,20).T, cmap = \"gray_r\")\n",
    "    \n",
    "    plt.xticks([])\n",
    "    plt.yticks([])"
   ]
  },
  {
   "cell_type": "code",
   "execution_count": 85,
   "metadata": {},
   "outputs": [
    {
     "data": {
      "image/png": "[encoded data removed]",
      "text/plain": [
       "<Figure size 576x576 with 25 Axes>"
      ]
     },
     "metadata": {},
     "output_type": "display_data"
    }
   ],
   "source": [
    "plot_hidden_layer(res.x)"
   ]
  },
  {
   "cell_type": "markdown",
   "metadata": {},
   "source": [
    "Above is the visualzation of hidden layer. The more black a pixel is, the more importance/more helphul to it is for our model to identify the number "
   ]
  },
  {
   "cell_type": "code",
   "execution_count": null,
   "metadata": {},
   "outputs": [],
   "source": []
  }
 ],
 "metadata": {
  "kernelspec": {
   "display_name": "Python 3",
   "language": "python",
   "name": "python3"
  },
  "language_info": {
   "codemirror_mode": {
    "name": "ipython",
    "version": 3
   },
   "file_extension": ".py",
   "mimetype": "text/x-python",
   "name": "python",
   "nbconvert_exporter": "python",
   "pygments_lexer": "ipython3",
   "version": "3.7.6"
  }
 },
 "nbformat": 4,
 "nbformat_minor": 4
}
