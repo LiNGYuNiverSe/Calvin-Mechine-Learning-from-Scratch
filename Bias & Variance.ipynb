{
 "cells": [
  {
   "cell_type": "markdown",
   "metadata": {},
   "source": [
    "# 1. Data preparation and visualization"
   ]
  },
  {
   "cell_type": "markdown",
   "metadata": {},
   "source": [
    "### 1.1 Read data"
   ]
  },
  {
   "cell_type": "code",
   "execution_count": 52,
   "metadata": {},
   "outputs": [],
   "source": [
    "import numpy as np\n",
    "import pandas as pd\n",
    "from matplotlib import pyplot as plt\n",
    "from scipy.io import loadmat\n",
    "from scipy.optimize import minimize "
   ]
  },
  {
   "cell_type": "code",
   "execution_count": 53,
   "metadata": {},
   "outputs": [
    {
     "data": {
      "text/plain": [
       "dict_keys(['__header__', '__version__', '__globals__', 'X', 'y', 'Xtest', 'ytest', 'Xval', 'yval'])"
      ]
     },
     "execution_count": 53,
     "metadata": {},
     "output_type": "execute_result"
    }
   ],
   "source": [
    "data =loadmat(\"./ex5/ex5data1.mat\")\n",
    "data.keys()"
   ]
  },
  {
   "cell_type": "code",
   "execution_count": 54,
   "metadata": {},
   "outputs": [],
   "source": [
    "X_train,y_train = data[\"X\"],data[\"y\"]\n",
    "X_test, y_test = data[\"Xtest\"], data[\"ytest\"]\n",
    "X_val, y_val = data[\"Xval\"], data[\"yval\"]"
   ]
  },
  {
   "cell_type": "code",
   "execution_count": 55,
   "metadata": {},
   "outputs": [
    {
     "name": "stdout",
     "output_type": "stream",
     "text": [
      "X_train's shape:(12, 1)\ty_train's shape(12, 1)\n",
      "X_val's shape:(21, 1)\ty_val's shape(21, 1)\n",
      "X_test's shape(21, 1)\ty_test's shape(21, 1).\n"
     ]
    }
   ],
   "source": [
    "print(\"X_train's shape:{}\\ty_train's shape{}\".format(X_train.shape, y_train.shape))\n",
    "print(\"X_val's shape:{}\\ty_val's shape{}\".format(X_val.shape, y_val.shape))\n",
    "print(\"X_test's shape{}\\ty_test's shape{}.\".format(X_test.shape,y_test.shape))"
   ]
  },
  {
   "cell_type": "code",
   "execution_count": 56,
   "metadata": {},
   "outputs": [],
   "source": [
    "X_train =np.insert(X_train,0,1,axis = 1)\n",
    "X_test = np.insert(X_test,0,1,axis =1)\n",
    "X_val = np.insert(X_val,0,1,axis=1)"
   ]
  },
  {
   "cell_type": "markdown",
   "metadata": {},
   "source": [
    "### 1.2 Visualize data"
   ]
  },
  {
   "cell_type": "code",
   "execution_count": 57,
   "metadata": {},
   "outputs": [],
   "source": [
    "def plot_data():\n",
    "    fig,ax = plt.subplots()\n",
    "    ax.scatter(X_train[:,1],\n",
    "              y_train,)\n",
    "    ax.set(xlabel= \"change in water level(x)\",\n",
    "          ylabel = \"water flowing out og the dam(y)\")"
   ]
  },
  {
   "cell_type": "code",
   "execution_count": 58,
   "metadata": {},
   "outputs": [
    {
     "data": {
      "image/png": "[encoded data removed]",
      "text/plain": [
       "<Figure size 432x288 with 1 Axes>"
      ]
     },
     "metadata": {
      "needs_background": "light"
     },
     "output_type": "display_data"
    }
   ],
   "source": [
    "plot_data()"
   ]
  },
  {
   "cell_type": "markdown",
   "metadata": {},
   "source": [
    "# 2. Model Implementation"
   ]
  },
  {
   "cell_type": "markdown",
   "metadata": {},
   "source": [
    "### 2.1 Cost Function\n",
    "$$J(\\theta) = \\frac{1}{2m}\\sum^m_{i =1}{X@theta -y} + \\frac{1}{2m} *y$$"
   ]
  },
  {
   "cell_type": "code",
   "execution_count": 81,
   "metadata": {},
   "outputs": [],
   "source": [
    "def costFunc(theta,X,y,Lambda):\n",
    "    #be careful the shape of y, which should be 1-d array\n",
    "    m=len(X)\n",
    "    cost = 1/(2*m) * np.sum(pow((X@theta - y.flatten()),2))\n",
    "    reg = Lambda/(2*m) *( theta[1:]@theta[1:])\n",
    "    return cost+reg"
   ]
  },
  {
   "cell_type": "code",
   "execution_count": 82,
   "metadata": {},
   "outputs": [
    {
     "data": {
      "text/plain": [
       "303.9931922202643"
      ]
     },
     "execution_count": 82,
     "metadata": {},
     "output_type": "execute_result"
    }
   ],
   "source": [
    "theta = np.ones(X_train.shape[1],)\n",
    "Lambda = 1\n",
    "costFunc(theta,X_train,y_train,Lambda)"
   ]
  },
  {
   "cell_type": "markdown",
   "metadata": {},
   "source": [
    "### 2.2 Gradient Vector\n",
    "$$ \\frac{\\partial J(\\theta)}{\\partial \\theta_j}= (\\frac{1}{m} \\sum_{i=1}^m (X@ \\theta - y)x^{(i)}_j) + \\frac{\\lambda}{m} \\theta_j$$"
   ]
  },
  {
   "cell_type": "code",
   "execution_count": 93,
   "metadata": {},
   "outputs": [],
   "source": [
    "def gradient_reg(theta,X,y,Lambda):\n",
    "    grad = (X@theta -y.flatten())@ X\n",
    "    reg = Lambda * theta\n",
    "    reg[0] = 0\n",
    "    return (grad+reg)/(len(X))"
   ]
  },
  {
   "cell_type": "code",
   "execution_count": 94,
   "metadata": {},
   "outputs": [
    {
     "data": {
      "text/plain": [
       "array([-15.30301567, 598.25074417])"
      ]
     },
     "execution_count": 94,
     "metadata": {},
     "output_type": "execute_result"
    }
   ],
   "source": [
    "gradient_reg(theta,X_train,y_train,Lambda =1)"
   ]
  },
  {
   "cell_type": "markdown",
   "metadata": {},
   "source": [
    "### 2.3 Gradient Descent with TNC"
   ]
  },
  {
   "cell_type": "code",
   "execution_count": 95,
   "metadata": {},
   "outputs": [],
   "source": [
    "def train_model(X,y,Lambda):\n",
    "    theta = np.ones(X.shape[1])\n",
    "    res = minimize(fun = costFunc,\n",
    "                  x0 = theta,\n",
    "                  args = (X,y,Lambda),\n",
    "                  method = \"TNC\",\n",
    "                  jac =gradient_reg)\n",
    "    \n",
    "    return res.x"
   ]
  },
  {
   "cell_type": "code",
   "execution_count": 96,
   "metadata": {},
   "outputs": [
    {
     "data": {
      "text/plain": [
       "array([13.08790348,  0.36777923])"
      ]
     },
     "execution_count": 96,
     "metadata": {},
     "output_type": "execute_result"
    }
   ],
   "source": [
    "theta_final = train_model(X_train,y_train,Lambda = 0)\n",
    "theta_final"
   ]
  },
  {
   "cell_type": "markdown",
   "metadata": {},
   "source": [
    "# 3. Model Evaluation"
   ]
  },
  {
   "cell_type": "markdown",
   "metadata": {},
   "source": [
    "### 3.1 Hypothesis on training set"
   ]
  },
  {
   "cell_type": "code",
   "execution_count": 97,
   "metadata": {
    "scrolled": true
   },
   "outputs": [
    {
     "data": {
      "text/plain": [
       "[<matplotlib.lines.Line2D at 0x2dbce38cb08>]"
      ]
     },
     "execution_count": 97,
     "metadata": {},
     "output_type": "execute_result"
    },
    {
     "data": {
      "image/png": "[encoded data removed]",
      "text/plain": [
       "<Figure size 432x288 with 1 Axes>"
      ]
     },
     "metadata": {
      "needs_background": "light"
     },
     "output_type": "display_data"
    }
   ],
   "source": [
    "plot_data()\n",
    "plt.plot(X_train[:,1],X_train@theta_final, c = \"r\")"
   ]
  },
  {
   "cell_type": "markdown",
   "metadata": {},
   "source": [
    "### 3.2 Training cost curve and CV cost curve\n",
    "Now let's see how the traning cost and cross validation cost will be with the increase of number of samples"
   ]
  },
  {
   "cell_type": "code",
   "execution_count": 128,
   "metadata": {},
   "outputs": [
    {
     "data": {
      "image/png": "[encoded data removed]",
      "text/plain": [
       "<Figure size 432x288 with 1 Axes>"
      ]
     },
     "metadata": {
      "needs_background": "light"
     },
     "output_type": "display_data"
    }
   ],
   "source": [
    "def plot_learning_curve(X_train,y_train,X_val,y_val,Lambda):\n",
    "    \"\"\"This function will plot learning curve, with the increase training samples\"\"\"\n",
    "    n= range(1,len(X_train)+1) # the increasing number of samples \n",
    "    training_costs = []\n",
    "    cv_costs = []\n",
    "    \n",
    "    for i in n:\n",
    "        res = train_model(X_train[:i,:],y_train[:i,:],Lambda)\n",
    "        training_cost_i =costFunc(res,X_train[:i,:],y_train[:i,:],Lambda)\n",
    "        cv_cost_i = costFunc(res,X_val,y_val,Lambda)\n",
    "        training_costs.append(training_cost_i)\n",
    "        cv_costs.append(cv_cost_i)\n",
    "        \n",
    "    # visualize two cost curves\n",
    "    plt.plot(n,training_costs,label  =\"training cost\")\n",
    "    plt.plot(n,cv_costs,label = \"cv_cost\")\n",
    "    plt.legend()\n",
    "    plt.xlabel(\"Number of training examples\")\n",
    "    plt.ylabel(\"Errors\")\n",
    "    plt.show()\n",
    "    \n",
    "plot_learning_curve(X_train,y_train,X_val,y_val,Lambda=0)"
   ]
  },
  {
   "cell_type": "markdown",
   "metadata": {},
   "source": [
    "As we can see, both the cost of training samples and cross validation are high, meaning it is a high bias model(underfitting issue). There are several ways to address this issue:\n",
    "<li>more features -- no more features we can use</li>\n",
    "<li>more polynomial terms -- only options we can do</li>\n",
    "<li>reduce lambda -- we didn't use any lambda at all</li>"
   ]
  },
  {
   "cell_type": "markdown",
   "metadata": {},
   "source": [
    "### feature mapping\n",
    "Add ploynomial terms to better divide our data"
   ]
  },
  {
   "cell_type": "code",
   "execution_count": 129,
   "metadata": {},
   "outputs": [],
   "source": [
    "def poly_feature(X,power):\n",
    "    for i in range(2,power +1):\n",
    "        X= np.insert(X,X.shape[1],np.power(X[:,1],i),axis = 1) #always add a ploynomial term at the end, based on the first feature( not bais unit)\n",
    "        return X"
   ]
  },
  {
   "cell_type": "markdown",
   "metadata": {},
   "source": [
    "### Normalization\n",
    "Since we are generating ploynomial terms, we'd better normalize our data here,to enhance convergence speed and accuracy. Because these high ploynomial terms will make your columns very different."
   ]
  },
  {
   "cell_type": "code",
   "execution_count": 131,
   "metadata": {},
   "outputs": [],
   "source": [
    "def get_means_stds(X):\n",
    "    means = np.mean(X,axis = 0)\n",
    "    stds = np.std(X,axis =0)\n",
    "    return means, stds\n",
    "\n",
    "def feature_normalize(X,means,stds):\n",
    "    # Don't normalize the ones term, as you denominator will be 0\n",
    "    X[:,1:] = (X[:,1:] - means[1:])/stds[1:]  \n",
    "    return X"
   ]
  },
  {
   "cell_type": "code",
   "execution_count": 142,
   "metadata": {},
   "outputs": [],
   "source": [
    "power = 6\n",
    "X_train_poly = poly_feature(X_train,power)\n",
    "X_val_poly = poly_feature(X_val,power)\n",
    "X_test_poly = poly_feature(X_test,power)"
   ]
  },
  {
   "cell_type": "code",
   "execution_count": 143,
   "metadata": {},
   "outputs": [],
   "source": [
    "train_means, train_stds = get_means_stds(X_train_poly)"
   ]
  },
  {
   "cell_type": "code",
   "execution_count": 174,
   "metadata": {},
   "outputs": [],
   "source": [
    "X_train_norm = feature_normalize(X_train_poly,train_means,train_stds)\n",
    "X_val_norm = feature_normalize(X_val_poly,train_means,train_stds)\n",
    "X_test_norm = feature_normalize(X_test_poly,train_means,train_stds)"
   ]
  },
  {
   "cell_type": "code",
   "execution_count": 168,
   "metadata": {},
   "outputs": [
    {
     "name": "stdout",
     "output_type": "stream",
     "text": [
      "Final theta: [11.21759019 13.34694925  7.10824866]\n"
     ]
    }
   ],
   "source": [
    "theta_fit =train_model(X_train_norm,y_train,Lambda = 0)\n",
    "print(\"Final theta:\", theta_fit)"
   ]
  },
  {
   "cell_type": "code",
   "execution_count": 169,
   "metadata": {},
   "outputs": [],
   "source": [
    "def plot_poly_fit():\n",
    "    plot_data()\n",
    "    \n",
    "    # generate some points to plot hypothesis\n",
    "    x = np.linspace(-60,60,100)\n",
    "    xx = x.reshape(100,1)\n",
    "    xx = np.insert(xx,0,1,axis=1)\n",
    "    xx = poly_feature(xx,power)\n",
    "    xx = feature_normalize(xx,train_means,train_stds)\n",
    "    \n",
    "    plt.plot(x,xx@theta_fit,\"r--\")"
   ]
  },
  {
   "cell_type": "code",
   "execution_count": 170,
   "metadata": {},
   "outputs": [
    {
     "data": {
      "image/png": "[encoded data removed]",
      "text/plain": [
       "<Figure size 432x288 with 1 Axes>"
      ]
     },
     "metadata": {
      "needs_background": "light"
     },
     "output_type": "display_data"
    }
   ],
   "source": [
    "plot_poly_fit()"
   ]
  },
  {
   "cell_type": "code",
   "execution_count": 171,
   "metadata": {},
   "outputs": [
    {
     "data": {
      "image/png": "[encoded data removed]",
      "text/plain": [
       "<Figure size 432x288 with 1 Axes>"
      ]
     },
     "metadata": {
      "needs_background": "light"
     },
     "output_type": "display_data"
    }
   ],
   "source": [
    "plot_learning_curve(X_train_norm,y_train,X_val_norm,y_val,Lambda = 100)"
   ]
  },
  {
   "cell_type": "code",
   "execution_count": 172,
   "metadata": {},
   "outputs": [],
   "source": [
    "Lambdas = [0, 0.001, 0.003, 0.01, 0.03, 1, 3, 10]\n",
    "training_costs=[]\n",
    "cv_costs=[]\n",
    "for Lambda in Lambdas:\n",
    "    res = train_model(X_train_norm,y_train,Lambda)\n",
    "    #Lambda will be used only in training part, so make sure it is 0 in evaluation \n",
    "    tc = costFunc(res,X_train_norm,y_train,Lambda = 0)\n",
    "    cv = costFunc(res,X_val_norm,y_val, Lambda = 0)\n",
    "    \n",
    "    training_costs.append(tc)\n",
    "    cv_costs.append(cv)"
   ]
  },
  {
   "cell_type": "code",
   "execution_count": 173,
   "metadata": {},
   "outputs": [
    {
     "data": {
      "image/png": "[encoded data removed]",
      "text/plain": [
       "<Figure size 432x288 with 1 Axes>"
      ]
     },
     "metadata": {
      "needs_background": "light"
     },
     "output_type": "display_data"
    }
   ],
   "source": [
    "plt.plot(Lambdas, training_costs, label = \"training cost\")\n",
    "plt.plot(Lambdas, cv_costs, label= \"cv cost\")\n",
    "plt.legend()\n",
    "\n",
    "plt.show()"
   ]
  },
  {
   "cell_type": "code",
   "execution_count": 159,
   "metadata": {},
   "outputs": [],
   "source": [
    "best_Lambda = Lambdas[np.argmin(cv_costs)]"
   ]
  },
  {
   "cell_type": "code",
   "execution_count": 123,
   "metadata": {},
   "outputs": [],
   "source": [
    "res = train_model(X_train_norm, y_train,Lambda =best_Lambda)"
   ]
  },
  {
   "cell_type": "code",
   "execution_count": 125,
   "metadata": {},
   "outputs": [
    {
     "name": "stdout",
     "output_type": "stream",
     "text": [
      "8.955070490818965\n"
     ]
    }
   ],
   "source": [
    "test_cost = costFunc(res,X_test_norm,y_test,Lambda = 0)\n",
    "print(test_cost)"
   ]
  },
  {
   "cell_type": "code",
   "execution_count": null,
   "metadata": {},
   "outputs": [],
   "source": []
  }
 ],
 "metadata": {
  "kernelspec": {
   "display_name": "Python 3",
   "language": "python",
   "name": "python3"
  },
  "language_info": {
   "codemirror_mode": {
    "name": "ipython",
    "version": 3
   },
   "file_extension": ".py",
   "mimetype": "text/x-python",
   "name": "python",
   "nbconvert_exporter": "python",
   "pygments_lexer": "ipython3",
   "version": "3.7.6"
  }
 },
 "nbformat": 4,
 "nbformat_minor": 4
}
